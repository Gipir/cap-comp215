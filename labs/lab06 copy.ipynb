{
 "cells": [
  {
   "cell_type": "markdown",
   "metadata": {
    "collapsed": true,
    "pycharm": {
     "name": "#%% md\n"
    }
   },
   "source": [
    "COMP 215 - LAB 6 (Game of Life)\n",
    "-----------------------------------------------\n",
    "#### Name:\n",
    "#### Date:\n",
    "\n",
    "This lab exercise is an introduction to [Conway's Game of Life](https://en.wikipedia.org/wiki/Conway%27s_Game_of_Life) discovered and studied by [John Conway](https://en.wikipedia.org/wiki/John_Horton_Conway).\n",
    "\n",
    "**New Python concepts**:\n",
    "   * 2D numpy [array](https://numpy.org/doc/stable/reference/generated/numpy.array.html)\n",
    "   * basic [array operations](https://www.pluralsight.com/guides/overview-basic-numpy-operations)\n",
    "\n",
    "**New Computation concepts**:\n",
    "   * [2D sliding dot product](https://docs.scipy.org/doc/scipy/reference/generated/scipy.signal.correlate2d.html)\n",
    "   * [Animation](https://matplotlib.org/stable/api/animation_api.html)\n",
    "\n",
    "**Credits**:\n",
    "    Code examples based on [Think Complexity, 2nd edition](https://thinkcomplex.com).\n",
    "    Copyright 2016 Allen Downey, [MIT License](http://opensource.org/licenses/MIT)\n",
    "\n",
    "As usual, the first code cell simply imports all the modules we'll be using..."
   ]
  },
  {
   "cell_type": "code",
   "execution_count": 1,
   "metadata": {
    "collapsed": false,
    "pycharm": {
     "name": "#%%\n"
    }
   },
   "outputs": [],
   "source": [
    "import time\n",
    "import matplotlib\n",
    "import matplotlib.pyplot as plt\n",
    "from matplotlib import animation\n",
    "import numpy as np\n",
    "from scipy.signal import correlate2d\n",
    "\n",
    "%matplotlib inline\n",
    "# Configure matplotlib's animation library to work in the browser.\n",
    "matplotlib.rc('animation', html='jshtml')"
   ]
  },
  {
   "cell_type": "markdown",
   "metadata": {
    "collapsed": false,
    "pycharm": {
     "name": "#%% md\n"
    }
   },
   "source": [
    "A reusable function for plotting 2D numpy.array as an image..."
   ]
  },
  {
   "cell_type": "code",
   "execution_count": 2,
   "metadata": {
    "collapsed": false,
    "pycharm": {
     "name": "#%%\n"
    }
   },
   "outputs": [],
   "source": [
    "DEFAULT_IMSHOW_OPTIONS = dict(\n",
    "    cmap = 'Blues',\n",
    "    interpolation='none',\n",
    "    origin='upper',\n",
    ")\n",
    "\n",
    "def plot_2D_array(array, axes=None, title='', **options):\n",
    "    \"\"\" Plot the 2D array as an image on the given axes  1's will be dark blue, 0's will be light blue. \"\"\"\n",
    "    axes = axes or plt.gca()   # If not axes are provided, draw on current axes\n",
    "    axes.set_title(title)\n",
    "    axes.set_xticks([], [])  # remove axes tick marks\n",
    "    axes.set_yticks([], [])\n",
    "    options = {**DEFAULT_IMSHOW_OPTIONS, **options}\n",
    "    axes.imshow(array, **options)"
   ]
  },
  {
   "cell_type": "markdown",
   "metadata": {
    "collapsed": false,
    "pycharm": {
     "name": "#%% md\n"
    }
   },
   "source": [
    "## Life Fundamentals\n",
    "Both the textbook and our week6 notebooks develop some fundamental operations for simulating the Game of Life.\n",
    "Some of the code from `week6.ipynb` is reproduced here without deriving all the ideas - review `week6.ipynb` notebook for the full story.\n",
    "The sliding dot product algorithm in `step` is implemented with [scipy.signal.correlate2d](https://docs.scipy.org/doc/scipy/reference/generated/scipy.signal.correlate2d.html).  It's behaviour is identical to the derivation in `week6.ipynb`.\n",
    "\n",
    "#### Notes\n",
    "* we use `correlate2d(state, kernel, mode='same', boundary='wrap')` to pad state matrix with 1 value around perimeter from the opposite side of the matrix.\n",
    "* since the rule is a 1D `np.array`, we use \"vector indexing\" here to set the 'live' state transitions:  `next_state[[3, 12, 13]] = 1`"
   ]
  },
  {
   "cell_type": "code",
   "execution_count": 3,
   "metadata": {
    "collapsed": false,
    "pycharm": {
     "name": "#%%\n"
    }
   },
   "outputs": [],
   "source": [
    "class Life2D:\n",
    "    \"\"\" An basic 2D Cellular Automata that implementes Conway's Game of Life \"\"\"\n",
    "    kernel = np.array([[1, 1, 1],\n",
    "                       [1, 10, 1],\n",
    "                       [1, 1, 1]])\n",
    "\n",
    "    next_state = np.zeros(19, dtype=np.uint8)\n",
    "    next_state[[3, 12, 13]] = 1\n",
    "\n",
    "    def __init__(self, n_rows, n_cols=None):\n",
    "        \"\"\" Construct a n_rows x n_cols 2D CA \"\"\"\n",
    "        n_cols = n_cols or n_rows  # i.e., n_cols if n_cols is not None and n_cols != 0 else n_rows\n",
    "        self.state = np.zeros(shape=(n_rows, n_cols), dtype=np.uint8)\n",
    "\n",
    "    def step(self):\n",
    "        \"\"\"Executes one time step. \"\"\"\n",
    "        transitions = correlate2d(self.state, self.kernel, mode='same', boundary='wrap')\n",
    "        self.state = self.next_state[transitions]\n",
    "\n",
    "    def draw(self, axes=None, step=''):\n",
    "        axes = axes or plt.gca()   # use pyplot's current axes if none are provided.\n",
    "        plot_2D_array(self.state, axes, title=f\"Conway's Game of Life {step}\")"
   ]
  },
  {
   "cell_type": "markdown",
   "metadata": {
    "collapsed": false,
    "pycharm": {
     "name": "#%% md\n"
    }
   },
   "source": [
    "### Visualizing a 2D simulation model\n",
    "For 1D CAs, we could use a 2D image to visualize the CA progression over time.\n",
    "For 2D CAs, we could try using time as a 3rd axis to generate a 3D visualziation, but without VR, its hard to explore a 3D visualization.\n",
    "Instead, we'll use a simple 2D [\"stop motion\" animation](https://en.wikipedia.org/wiki/Animation).\n",
    "Here is a generic class that animates any 2D model that provides step() and draw() methods, and uses matplotlib to render its state.\n",
    "\n",
    "See [Matplotlib animation in Jupyter](https://www.allendowney.com/blog/2019/07/25/matplotlib-animation-in-jupyter/) by our textbook author for a discussion of the pros and cons of various animation techniques in jupyter notebooks."
   ]
  },
  {
   "cell_type": "code",
   "execution_count": 4,
   "metadata": {
    "collapsed": false,
    "pycharm": {
     "name": "#%%\n"
    }
   },
   "outputs": [],
   "source": [
    "class Animation2D:\n",
    "    \"\"\"\n",
    "      Animates any 2D model with a step() method and a draw() method, using matplotlib\n",
    "      model.step() should take no parameters - just step the model forward one step.\n",
    "      model.draw() should take 2 parameters, the matpltolib axes to draw on and an integer step number\n",
    "    \"\"\"\n",
    "\n",
    "    def __init__(self, model, frames=50, figsize=(8, 8)):\n",
    "        \"\"\"\n",
    "        :param model: the simulation object to animate, with step() and draw(axes, step) methods\n",
    "        :param frames: number of animation frames to generate\n",
    "        \"\"\"\n",
    "        self.model = model\n",
    "        self.frames = frames\n",
    "        self.fig, self.ax = plt.subplots(figsize=figsize)\n",
    "\n",
    "    def animation_step(self, step):\n",
    "        \"\"\" Step the model forward and draw the plot \"\"\"\n",
    "        if step > 0:\n",
    "            self.model.step()\n",
    "        self.model.draw(self.ax, step=step)\n",
    "\n",
    "    def show(self):\n",
    "        \"\"\" return the matplotlib animation object, ready for display \"\"\"\n",
    "        anim = animation.FuncAnimation(self.fig, self.animation_step, frames=self.frames)\n",
    "        plt.close()  # this ensures the last frame is not shown as a separate plot\n",
    "        return anim\n",
    "\n",
    "    def animate(self, interval=None):\n",
    "        \"\"\" Animate the model simulation directly in the notebook display block \"\"\"\n",
    "        from IPython.display import clear_output\n",
    "        try:\n",
    "            for i in range(self.frames):\n",
    "                clear_output(wait=True)  # clear the IPython display\n",
    "                self.ax.clear()          # clear old image from the axes (fixes a performance issue)\n",
    "                plt.figure(self.fig)     # add the figure back to pyplot ** sigh **\n",
    "                self.animation_step(i)\n",
    "                plt.show()               # show the current animation frame (pyplot then closes and throws away figure ** sigh **)\n",
    "                if interval:\n",
    "                    time.sleep(interval)\n",
    "        except KeyboardInterrupt:\n",
    "            pass"
   ]
  },
  {
   "cell_type": "markdown",
   "metadata": {
    "collapsed": false,
    "pycharm": {
     "name": "#%% md\n"
    }
   },
   "source": [
    "### Sample usage\n",
    "Animate a single glider..."
   ]
  },
  {
   "cell_type": "code",
   "execution_count": 9,
   "metadata": {
    "collapsed": false,
    "pycharm": {
     "name": "#%%\n"
    }
   },
   "outputs": [
    {
     "data": {
      "image/png": "[encoded data removed]",
      "text/plain": [
       "<Figure size 800x800 with 1 Axes>"
      ]
     },
     "metadata": {},
     "output_type": "display_data"
    }
   ],
   "source": [
    "size = 10\n",
    "life = Life2D(size)\n",
    "glider = np.array([[0, 1, 0], [0, 0, 1], [1, 1, 1]], dtype=np.uint8)\n",
    "life.state[1:4, 2:5] = glider             # bad idea to alter an objects state directly!  We'll improve it in Ex. 3\n",
    "gol = Animation2D(life, frames=20)\n",
    "gol.animate()"
   ]
  },
  {
   "cell_type": "markdown",
   "metadata": {
    "collapsed": false,
    "pycharm": {
     "name": "#%% md\n"
    }
   },
   "source": [
    "## Exercise 1:  Enumerate all Elementary 2D CA's\n",
    " * how many unique states are there for a 3x3 (9 cell) neighbourhood?\n",
    " * how many unique “rules” are there? (where a rule provides a mapping for each possible neighbourhood state to the output for the centre cell)\n",
    " * how does this number compare, for example, to the [number of atoms in the observable universe?](https://en.wikipedia.org/wiki/Observable_universe#Matter_content%E2%80%94number_of_atoms)\n",
    " * would it be a reasonable goal to conduct an experiment like Wolfram’s for 2D CA’s?\n",
    " * propose a numbering scheme for these rules, analogous to Wolfram’s rule numbers\n",
    " * how might we go about determining which rule number corresponds to Conway’s GoL?\n",
    "   (I’m not asking for the number, but rather for a method you could use to find it.)"
   ]
  },
  {
   "attachments": {},
   "cell_type": "markdown",
   "metadata": {},
   "source": [
    "1. Each cell has two states(true or false), so there is 2^9 states in 3*3 neighbourhood\n",
    "2. There should be as many rules as unique states of 3*3 neighbourhood, so 2^2^9\n",
    "3. It is much bigger\n",
    "4. I presume it would take quite a lot of time\n",
    "5. "
   ]
  },
  {
   "cell_type": "markdown",
   "metadata": {
    "collapsed": false,
    "pycharm": {
     "name": "#%% md\n"
    }
   },
   "source": [
    "## Exercise 2: random_life\n",
    "Extend the Life2D class defined above to allow the game to be initialized with a random start state.\n",
    "The liklihood of any given cell being initialized to \"alive\" is given by $p$.\n",
    "*Hint*: we did this exact exercise for a 1D array in lab 5"
   ]
  },
  {
   "cell_type": "code",
   "execution_count": 6,
   "metadata": {
    "collapsed": false,
    "pycharm": {
     "name": "#%%\n"
    }
   },
   "outputs": [
    {
     "data": {
      "text/plain": [
       "array([[ True, False, False, False],\n",
       "       [ True, False, False,  True],\n",
       "       [ True,  True,  True, False],\n",
       "       [False,  True, False,  True]])"
      ]
     },
     "execution_count": 6,
     "metadata": {},
     "output_type": "execute_result"
    }
   ],
   "source": [
    "# Solution for Ex. 2\n",
    "\n",
    "class BetterLife2D(Life2D):\n",
    "    \"\"\" Improvements on the basic Life2D model \"\"\"\n",
    "\n",
    "    def randomize_state(self, p):\n",
    "        self.state = np.array([[np.random.random() > p for i in range(self.state.shape[0])] for k in range(self.state.shape[1])])\n",
    "        return self.state\n",
    "\n",
    "def random_life(n_rows, n_cols=None, p=0.5):\n",
    "    return BetterLife2D(n_rows, n_cols).randomize_state(p)\n",
    "\n",
    "random_life(4,4,0.5)"
   ]
  },
  {
   "cell_type": "markdown",
   "metadata": {
    "collapsed": false,
    "pycharm": {
     "name": "#%% md\n"
    }
   },
   "source": [
    "### Experiment\n",
    "Run a small experiment to see if you can identify any relationship between $p$, the probability of a live cell in the initial grid, and the time it takes for the GoL pattern to stabilize."
   ]
  },
  {
   "attachments": {},
   "cell_type": "markdown",
   "metadata": {},
   "source": [
    "Frankly, I don't really understand what does this mean, so I did what I interpret to be the right answer."
   ]
  },
  {
   "cell_type": "code",
   "execution_count": 24,
   "metadata": {},
   "outputs": [],
   "source": [
    "def is_there_something_left(array):\n",
    "    for i in range(array.shape[0]): \n",
    "            for j in range(array.shape[1]):\n",
    "                if array[i][j]:\n",
    "                    return True\n",
    "                \n",
    "    return False"
   ]
  },
  {
   "cell_type": "code",
   "execution_count": 40,
   "metadata": {
    "collapsed": false,
    "pycharm": {
     "name": "#%%\n"
    }
   },
   "outputs": [
    {
     "data": {
      "text/plain": [
       "<BarContainer object of 20 artists>"
      ]
     },
     "execution_count": 40,
     "metadata": {},
     "output_type": "execute_result"
    },
    {
     "data": {
      "image/png": "[encoded data removed]",
      "text/plain": [
       "<Figure size 640x480 with 1 Axes>"
      ]
     },
     "metadata": {},
     "output_type": "display_data"
    }
   ],
   "source": [
    "size = 20\n",
    "height = []\n",
    "for i in range(size):\n",
    "    val = 0\n",
    "    for j in range(100):\n",
    "        gol = BetterLife2D(10,10)\n",
    "        gol.randomize_state((i+1)/size)\n",
    "        for p in range(1000):\n",
    "            gol.step()\n",
    "            if not(is_there_something_left(gol.state)):\n",
    "                val = val + p\n",
    "                break\n",
    "\n",
    "    val = np.average(val)\n",
    "    height.append(val)\n",
    "plt.bar([i for i in range(size)], height)"
   ]
  },
  {
   "cell_type": "markdown",
   "metadata": {
    "collapsed": false,
    "pycharm": {
     "name": "#%% md\n"
    }
   },
   "source": [
    "## Exercise 3: Load Patterns\n",
    "People have discovered many interesting [\"patterns\"](https://conwaylife.com/wiki/Category:Patterns) that exhibit various types of behaviours.\n",
    "A \"pattern\" is just a small 2D array.\n",
    " 1. Develop a function that returns a 2D array containing the patterns defined by a single string; and\n",
    " 2. Add an `load_pattern(x, y, pattern)` method to your BetterLife2D class above to insert patterns into the Life state array\n",
    "    *Tip*: you can [assign an entire 2D slice of a numpy array](https://www.nickmccullum.com/advanced-python/numpy-indexing-assignment/) in a single assignment statement!   See example in the Sample Usage block above. Try it!"
   ]
  },
  {
   "cell_type": "code",
   "execution_count": 59,
   "metadata": {
    "collapsed": false,
    "pycharm": {
     "name": "#%%\n"
    }
   },
   "outputs": [
    {
     "data": {
      "text/plain": [
       "array([[0, 1, 0],\n",
       "       [0, 0, 1],\n",
       "       [1, 1, 1]])"
      ]
     },
     "execution_count": 59,
     "metadata": {},
     "output_type": "execute_result"
    }
   ],
   "source": [
    "# Here's an example of the glider pattern from above defined in a single string...\n",
    "glider_pattern = \\\n",
    "    \"\"\"\n",
    "010\n",
    "001\n",
    "111\n",
    "    \"\"\"\n",
    "\n",
    "def to_2D_array(string):\n",
    "    out = []\n",
    "    temp = []\n",
    "    for i in range(0, len(string)):\n",
    "        if string[i] != '\\n' and string[i] != ' ':\n",
    "            temp.append(int(string[i]))\n",
    "        else:\n",
    "            if temp != []:\n",
    "                out.append(temp)\n",
    "                temp = []\n",
    "    return np.array(out)\n",
    "\n",
    "a = to_2D_array(glider_pattern)\n",
    "\n",
    "\n",
    "class Even_Better_life(BetterLife2D):\n",
    "\n",
    "    def load_up(self, arr):\n",
    "        self.state = arr\n",
    "\n",
    "test = Even_Better_life(10,10)\n",
    "test.load_up(a)\n",
    "test.state"
   ]
  },
  {
   "cell_type": "markdown",
   "metadata": {
    "collapsed": false,
    "pycharm": {
     "name": "#%% md\n"
    }
   },
   "source": [
    "### Define some patterns\n",
    "User your nifty new function to define a few common, interesting patterns (e.g., from the book or other sources)"
   ]
  },
  {
   "cell_type": "code",
   "execution_count": 55,
   "metadata": {
    "collapsed": false,
    "pycharm": {
     "name": "#%%\n"
    }
   },
   "outputs": [],
   "source": [
    "square = '''\n",
    "000000\n",
    "001100\n",
    "001100\n",
    "000000\n",
    "'''"
   ]
  },
  {
   "cell_type": "markdown",
   "metadata": {
    "collapsed": false,
    "pycharm": {
     "name": "#%% md\n"
    }
   },
   "source": [
    "### Experiment\n",
    "Load up a BetterLife2D object with some patterns that interact in some interesting way.\n",
    "What can we learn from studying interactions like this?   Is anything here applicable to the real world?"
   ]
  },
  {
   "cell_type": "code",
   "execution_count": null,
   "metadata": {
    "collapsed": false,
    "pycharm": {
     "name": "#%%\n"
    }
   },
   "outputs": [],
   "source": [
    "test = Even_Better_life(6,4)\n",
    "test.load_up(square)\n",
    "anim = Animation2D(test,20)\n",
    "anim.animate()"
   ]
  }
 ],
 "metadata": {
  "kernelspec": {
   "display_name": "Python 3",
   "language": "python",
   "name": "python3"
  },
  "language_info": {
   "codemirror_mode": {
    "name": "ipython",
    "version": 3
   },
   "file_extension": ".py",
   "mimetype": "text/x-python",
   "name": "python",
   "nbconvert_exporter": "python",
   "pygments_lexer": "ipython3",
   "version": "3.11.0"
  },
  "vscode": {
   "interpreter": {
    "hash": "aee8b7b246df8f9039afb4144a1f6fd8d2ca17a180786b69acc140d282b71a49"
   }
  }
 },
 "nbformat": 4,
 "nbformat_minor": 0
}
