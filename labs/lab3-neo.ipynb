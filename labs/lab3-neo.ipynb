{
 "cells": [
  {
   "cell_type": "markdown",
   "metadata": {
    "id": "nbRPZPKZU5Pk"
   },
   "source": [
    "COMP 215 - LAB 2 (NEO)\n",
    "----------------\n",
    "#### Name:\n",
    "#### Date:\n",
    "\n",
    "This lab exercise is mostly a review of strings, tuples, lists, dictionaries, and functions.\n",
    "\n",
    "**Building on new concepts from lab 1**:\n",
    "  * `datetime.date` objects represent a calendar date\n",
    "  * *list comprehension* provides a compact way to represent map and filter algorithms\n",
    "\n",
    "**New Python Concepts**:\n",
    "  * *f-string* simplifies string formatting operations\n",
    "\n",
    "As usual, the first code cell simply imports all the modules we'll be using..."
   ]
  },
  {
   "cell_type": "code",
   "execution_count": null,
   "metadata": {
    "collapsed": false,
    "pycharm": {
     "name": "#%%\n"
    }
   },
   "outputs": [],
   "source": [
    "import datetime, json, requests\n",
    "from pprint import pprint    # Pretty Print - built-in python function to nicely format data structures"
   ]
  },
  {
   "cell_type": "markdown",
   "metadata": {
    "collapsed": false,
    "pycharm": {
     "name": "#%% md\n"
    }
   },
   "source": [
    "We'll answer some questions about [Near Earth Objects](https://cneos.jpl.nasa.gov/)\n",
    "> using NASA's API:  [https://api.nasa.gov/](https://api.nasa.gov/#NeoWS)\n",
    "\n",
    "You should register for your own API key, (but may use the DEMO_KEY to get started).\n",
    "\n",
    "First we need a short tutorial on python dates and [f-strings](https://realpython.com/python-f-strings/)..."
   ]
  },
  {
   "cell_type": "code",
   "execution_count": null,
   "metadata": {
    "collapsed": false,
    "pycharm": {
     "name": "#%%\n"
    }
   },
   "outputs": [],
   "source": [
    "today = datetime.date.today()   # get a date object representing today's date\n",
    "print(today, type(today))\n",
    "formatted_date = f'Today is: {today}'   # A format string - notice how the variable `today` is formatted into the stringg\n",
    "print(formatted_date)"
   ]
  },
  {
   "cell_type": "markdown",
   "metadata": {
    "collapsed": false,
    "pycharm": {
     "name": "#%% md\n"
    }
   },
   "source": [
    "### Make a query\n",
    "\n",
    "Let's get some data from the NEO database...\n",
    "Here's a query that gets the observation \"feed\" for today.\n",
    "(Note: I hard-coded the date below to lock down the data for the lab - ideally used `today()` so the notebook is always up-to-date.)"
   ]
  },
  {
   "cell_type": "code",
   "execution_count": null,
   "metadata": {
    "collapsed": false,
    "pycharm": {
     "name": "#%%\n"
    }
   },
   "outputs": [],
   "source": [
    "API_KEY = 'DEMO_KEY'  # substitute your API key here\n",
    "\n",
    "today = '2023-01-09'  #  Future enhancement:  str(datetime.date.today())   # Today's date as a string!\n",
    "# Use an f-string here to \"format\" the date and API key varaibles.\n",
    "url = f'https://api.nasa.gov/neo/rest/v1/feed?start_date={today}&end_date={today}&api_key={API_KEY}'\n",
    "\n",
    "response = requests.request(\"GET\", url, headers={}, data={})\n",
    "\n",
    "data = json.loads(response.text)  # recall json.loads for lab 1\n",
    "\n",
    "# TIP: print(data) to see the whole data structure returned, here we grab just the list of NEO's:\n",
    "n_results = data['element_count']\n",
    "neos = data['near_earth_objects'][today]\n",
    "#print(f'{n_results} Near Earth Objects found for {today}')\n",
    "pprint(neos)"
   ]
  },
  {
   "cell_type": "markdown",
   "metadata": {
    "collapsed": false,
    "pycharm": {
     "name": "#%% md\n"
    }
   },
   "source": [
    "Next we extract just the potentially hazerdous asteroids, using a Comp115-style list accumulator *loop*:"
   ]
  },
  {
   "cell_type": "code",
   "execution_count": null,
   "metadata": {
    "id": "JDGbYTySU3BP"
   },
   "outputs": [],
   "source": [
    "hazards =  []\n",
    "for item in neos:\n",
    "  if item['is_potentially_hazardous_asteroid'] is True:\n",
    "    hazards.append(item)\n",
    "print(f'{len(hazards)} potentially hazardous asteroids identified.')"
   ]
  },
  {
   "cell_type": "markdown",
   "metadata": {
    "collapsed": false,
    "pycharm": {
     "name": "#%% md\n"
    }
   },
   "source": [
    "## Exercise 1\n",
    "\n",
    "In the code cell below, **re-write the accumulator loop above** as a [list comprehension](https://realpython.com/lessons/list-comprehensions-overview/) that implements a [\"filter\"](https://youtu.be/hUes6y2b--0)\n",
    "Notice how this provides a concise way to \"filter\" items of interest from a larger data set."
   ]
  },
  {
   "cell_type": "code",
   "execution_count": null,
   "metadata": {
    "collapsed": false,
    "pycharm": {
     "name": "#%%\n"
    }
   },
   "outputs": [],
   "source": [
    "hazards = [item for item in neos if item['is_potentially_hazardous_asteroid'] is True]\n",
    "hazards"
   ]
  },
  {
   "cell_type": "markdown",
   "metadata": {
    "collapsed": false,
    "pycharm": {
     "name": "#%% md\n"
    }
   },
   "source": [
    "## Fetch Complete Data for One Asteroid\n",
    "\n",
    "Notice that the record for each `neo` is a dictionary with `id` field that uniquely identifies this record in the database.\n",
    "\n",
    "We can use this `id` to fetch complete orbital and close approach data for the NEO.\n",
    "\n",
    "For example, this query fetches the complete data set for the first hazardous asteroid...\n"
   ]
  },
  {
   "cell_type": "code",
   "execution_count": null,
   "metadata": {
    "collapsed": false,
    "pycharm": {
     "name": "#%%\n"
    }
   },
   "outputs": [],
   "source": [
    "id = hazards[0]['id']\n",
    "url = f'https://api.nasa.gov/neo/rest/v1/neo/{id}/?api_key={API_KEY}'\n",
    "response = requests.request(\"GET\", url, headers={}, data={})\n",
    "data = json.loads(response.text)\n",
    "\n",
    "data"
   ]
  },
  {
   "cell_type": "markdown",
   "metadata": {
    "id": "DNRs7ynOYwYk"
   },
   "source": [
    "Notice that the `miss_distance` field contains the distance (in various units) by which the NEO missed an \"orbiting body\".\n",
    "\n",
    "## Exercise 2\n",
    "\n",
    "In the code cell below, write a python function that takes a list of \"close approach data\" as a parameter,\n",
    "and returns a 2-tuple with the (date, miss km) of the closest approach to Earth in the list (where \"miss km\" is the miss distance in km).\n",
    "\n",
    "Hints:\n",
    "* notice the input is a list of dictionaries.  Each dictionary has a 'close_approach_date\", \"orbiting_body\", and 'miss_distance' field.\n",
    "* we are only interested in the closest approach to \"Earth\"\n",
    "* use a loop if that is easier to understand - we will look at more compact algorithms to solve this problem in class.\n",
    "\n",
    "Add at least one unit test to check your work - note the test data only needs dictionaries with the fields your function actually uses.\n"
   ]
  },
  {
   "cell_type": "code",
   "execution_count": null,
   "metadata": {
    "colab": {
     "base_uri": "https://localhost:8080/"
    },
    "id": "tiyXTDfnZAd0",
    "outputId": "d458a4a2-813a-4b12-e688-73aa07a687db"
   },
   "outputs": [],
   "source": [
    "def closest_to_anniahliation(data):\n",
    "    close_approach_data = data['close_approach_data']\n",
    "    approach_dates = [(record['close_approach_date'], record['miss_distance']['kilometers']) for record in close_approach_data if record['orbiting_body'] == 'Earth']\n",
    "    miss_km = min(float(a[1]) for a in approach_dates)\n",
    "    miss_date = [a[0] for a in approach_dates if float(a[1]) == miss_km]\n",
    "    return (miss_km, miss_date[0])\n",
    "\n",
    "closest_to_anniahliation(data)"
   ]
  },
  {
   "cell_type": "markdown",
   "metadata": {
    "collapsed": false
   },
   "source": [
    "## OPTIONAL - Take your skills to the next level...\n",
    "## Exercise 3\n",
    "\n",
    "In the code cell below, write a complete program that:\n",
    " 1. fetches the list of NEO's for this week.\n",
    " 2. for each NEO, fetch it's complete orbital data and determine its closest approach to Earth\n",
    " 3. identify which NEO from this week's data makes the closet approach to earth\n",
    " 4. print a nice message with information about the NEO, which it will approach the Earth, and how close it will come.\n",
    "\n",
    "Hints:\n",
    "* you'll need the start and end date - end date is today, see if you can use a [`timedelta`](https://docs.python.org/3/library/datetime.html#timedelta-objects) object to ge the start date (you can do basic \"date math\" with `timedelta` and `date` objects!)\n",
    "* you may need to modify the function we wrote in Ex. 2 to return a triple with the NEO's id included;\n",
    "* lots of opportunity here for more practice with list comprehensions\n"
   ]
  },
  {
   "cell_type": "code",
   "execution_count": null,
   "metadata": {
    "colab": {
     "base_uri": "https://localhost:8080/"
    },
    "id": "Ds1YevErlzCe",
    "outputId": "87047de1-ec1b-4a81-d6a1-7f2049b6c2f8",
    "pycharm": {
     "name": "#%%\n"
    }
   },
   "outputs": [],
   "source": [
    "def closest_during_timeframe(start_date, close_date, data):\n",
    "    close_approach_data = data['close_approach_data']\n",
    "    approach_dates = [(record['close_approach_date'], record['miss_distance']['kilometers']) for record in close_approach_data if ((start_date - datetime.datetime.strptime(record['close_approach_date'], '%Y-%m-%d').date()).days < 0) and (((close_date - datetime.datetime.strptime(record['close_approach_date'], '%Y-%m-%d').date()).days > 0))]\n",
    "    miss_km = min(float(a[1]) for a in approach_dates)\n",
    "    miss_date = [a[0] for a in approach_dates if float(a[1]) == miss_km]\n",
    "    return (miss_km, miss_date[0])\n",
    "\n",
    "(distance, date) = closest_during_timeframe(datetime.date(2005,2,5), datetime.date.today(), data)\n",
    "print(f'The closest asteroid came near Earth was at {date} with distance of {distance} km')"
   ]
  },
  {
   "attachments": {},
   "cell_type": "markdown",
   "metadata": {},
   "source": [
    "**Exercise 1**"
   ]
  },
  {
   "cell_type": "code",
   "execution_count": null,
   "metadata": {},
   "outputs": [],
   "source": [
    "from dataclasses import dataclass\n",
    "\n",
    "@dataclass\n",
    "class Asteroid:\n",
    "    id: int\n",
    "    name: str\n",
    "    estimated_diameter: float\n",
    "    is_potentially_hazardous: bool\n",
    "    close_approaches : list\n",
    "\n",
    "    @classmethod\n",
    "    def from_NEO(cls, neo_id):\n",
    "        API_KEY = 'DEMO_KEY'\n",
    "        url = f'https://api.nasa.gov/neo/rest/v1/neo/{neo_id}/?api_key={API_KEY}'\n",
    "        response = requests.request(\"GET\", url, headers={}, data={})\n",
    "        data = json.loads(response.text)\n",
    "        placeholder = Asteroid(data['id'], data['name'],data['estimated_diameter'],data['is_potentially_hazardous_asteroid'], []) #part of exercise 4\n",
    "        approach_data = [CloseApproach.CloseApproach(data, placeholder) for data in data['close_approach_data']] #part of exercise 4\n",
    "        return(Asteroid(data['id'], data['name'],data['estimated_diameter'],data['is_potentially_hazardous_asteroid'], approach_data))\n",
    "\n",
    "    def closest_earth_approach(self):\n",
    "        return min([distance.miss_distance for distance in self.close_approaches])\n",
    "\n",
    "    '''\n",
    "    #part of exercise 5\n",
    "    # I have no clue how does Nasa API works. \n",
    "    @classmethod\n",
    "    def most_dangerous_approach(cls, start_date, close_date):\n",
    "        API_KEY = 'DEMO_KEY' # '2023-01-09' \n",
    "        url = f'https://api.nasa.gov/neo/rest/v1/feed?start_date={today}&end_date={today}&api_key={API_KEY}'\n",
    "        response = requests.request(\"GET\", url, headers={}, data={})\n",
    "        data = json.loads(response.text)\n",
    "        print(data)\n",
    "        approach_data = [(record['close_approach_date'], record['miss_distance']['kilometers']) for data in data if ((start_date - datetime.datetime.strptime(record['close_approach_date'], '%Y-%m-%d').date()).days < 0) and (((close_date - datetime.datetime.strptime(record['close_approach_date'], '%Y-%m-%d').date()).days > 0))]\n",
    "        return approach_data\n",
    "    '''\n",
    "\n"
   ]
  },
  {
   "cell_type": "code",
   "execution_count": null,
   "metadata": {},
   "outputs": [],
   "source": [
    "#Asteroid.most_dangerous_approach('2023-01-09', '2023-01-09')\n",
    "Asteroid.from_NEO(2307070)"
   ]
  },
  {
   "attachments": {},
   "cell_type": "markdown",
   "metadata": {},
   "source": [
    "**Exercise 2**"
   ]
  },
  {
   "cell_type": "code",
   "execution_count": null,
   "metadata": {},
   "outputs": [],
   "source": [
    "Asteroid.from_NEO(2226554)"
   ]
  },
  {
   "attachments": {},
   "cell_type": "markdown",
   "metadata": {},
   "source": [
    "**Exercise 3**"
   ]
  },
  {
   "cell_type": "code",
   "execution_count": null,
   "metadata": {},
   "outputs": [],
   "source": [
    "@dataclass\n",
    "class CloseApproach:\n",
    "    asteroid : Asteroid\n",
    "    orbiting_body : str \n",
    "    approach_date : datetime\n",
    "    miss_distance : float \n",
    "    relative_velocity : float\n",
    "\n",
    "    @classmethod\n",
    "    def CloseApproach(cls, close_approach, asteroid):\n",
    "        return(CloseApproach(asteroid, close_approach['orbiting_body'],datetime.datetime.strptime(close_approach['close_approach_date'], '%Y-%m-%d').date(), close_approach['miss_distance']['kilometers'],close_approach['relative_velocity']['kilometers_per_second']))"
   ]
  },
  {
   "cell_type": "code",
   "execution_count": null,
   "metadata": {},
   "outputs": [],
   "source": [
    "a = {'close_approach_date': '1901-06-26',\n",
    " 'close_approach_date_full': '1901-Jun-26 20:27',\n",
    " 'epoch_date_close_approach': -2162172780000,\n",
    " 'relative_velocity': {'kilometers_per_second': '9.2858560682',\n",
    "  'kilometers_per_hour': '33429.0818456076',\n",
    "  'miles_per_hour': '20771.531439011'},\n",
    " 'miss_distance': {'astronomical': '0.0308800166',\n",
    "  'lunar': '12.0123264574',\n",
    "  'kilometers': '4619584.708924642',\n",
    "  'miles': '2870476.8323463796'},\n",
    " 'orbiting_body': 'Earth'}\n",
    "CloseApproach.CloseApproach(a, Asteroid.from_NEO('2226554'))"
   ]
  },
  {
   "attachments": {},
   "cell_type": "markdown",
   "metadata": {},
   "source": [
    "**Exercise 4**"
   ]
  },
  {
   "cell_type": "code",
   "execution_count": null,
   "metadata": {},
   "outputs": [],
   "source": [
    "Asteroid.from_NEO(2226554)"
   ]
  }
 ],
 "metadata": {
  "colab": {
   "collapsed_sections": [],
   "name": "Lab2-NEO.ipynb",
   "provenance": []
  },
  "kernelspec": {
   "display_name": "Python 3",
   "language": "python",
   "name": "python3"
  },
  "language_info": {
   "codemirror_mode": {
    "name": "ipython",
    "version": 3
   },
   "file_extension": ".py",
   "mimetype": "text/x-python",
   "name": "python",
   "nbconvert_exporter": "python",
   "pygments_lexer": "ipython3",
   "version": "3.11.0 (v3.11.0:deaf509e8f, Oct 24 2022, 14:43:23) [Clang 13.0.0 (clang-1300.0.29.30)]"
  },
  "vscode": {
   "interpreter": {
    "hash": "aee8b7b246df8f9039afb4144a1f6fd8d2ca17a180786b69acc140d282b71a49"
   }
  }
 },
 "nbformat": 4,
 "nbformat_minor": 0
}
