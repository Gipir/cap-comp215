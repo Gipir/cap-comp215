{
 "cells": [
  {
   "cell_type": "markdown",
   "metadata": {
    "colab_type": "text",
    "id": "view-in-github"
   },
   "source": [
    "<a href=\"https://colab.research.google.com/github/powderflask/cap-comp215/blob/main/examples/week2.ipynb\" target=\"_parent\"><img src=\"https://colab.research.google.com/assets/colab-badge.svg\" alt=\"Open In Colab\"/></a>"
   ]
  },
  {
   "cell_type": "markdown",
   "metadata": {
    "id": "WBMC0GrjNRTM"
   },
   "source": [
    "# Sequence and Map data structures - Strings, Tuples, Lists, Dictionaries\n",
    "This is our week 2 examples notebook and will be available on Github from the powderflask/cap-comp215 repository.\n",
    "\n",
    "As usual, the first code block just imports the modules we will use."
   ]
  },
  {
   "cell_type": "code",
   "execution_count": null,
   "metadata": {
    "id": "C1a6aDXAM0WM"
   },
   "outputs": [],
   "source": [
    "import datetime\n",
    "import matplotlib.pyplot as plt\n",
    "import  matplotlib.dates as mdates\n",
    "from pprint import pprint"
   ]
  },
  {
   "cell_type": "markdown",
   "metadata": {
    "collapsed": false,
    "pycharm": {
     "name": "#%% md\n"
    }
   },
   "source": [
    "## f-strings\n",
    "A `string` is a sequence of characters / symbols.\n",
    "This familiar data structure is quite powerful, and format-strings (f-strings) take it to the next level...."
   ]
  },
  {
   "cell_type": "code",
   "execution_count": null,
   "metadata": {
    "collapsed": false,
    "pycharm": {
     "name": "#%%\n"
    }
   },
   "outputs": [],
   "source": [
    "today = datetime.date.today()\n",
    "the_answer = 42\n",
    "PI = 3.1415926535\n",
    "\n",
    "f'{today:%dth of %m month, %Y} is not special, but {the_answer} and {PI:0.3} are!'"
   ]
  },
  {
   "cell_type": "markdown",
   "metadata": {
    "id": "k70NJ-JTNwYN"
   },
   "source": [
    "## List Comprehension\n",
    "Provides a compact syntax for two very common sequence-processing algorithms:  Map  and Filter\n",
    "\n",
    "Basic syntax:"
   ]
  },
  {
   "cell_type": "code",
   "execution_count": null,
   "metadata": {
    "colab": {
     "base_uri": "https://localhost:8080/"
    },
    "id": "HZSz8IftqJ72",
    "outputId": "5b74860f-94af-483c-f4a8-4ef27ba7dd4a"
   },
   "outputs": [],
   "source": [
    "[i for i in range(10)]"
   ]
  },
  {
   "cell_type": "markdown",
   "metadata": {
    "collapsed": false,
    "pycharm": {
     "name": "#%% md\n"
    }
   },
   "source": [
    "### Map Algorithm\n",
    "Apply the same function to every item in another sequence (i.e., provide a \"mapping\" from the source sequence to the target"
   ]
  },
  {
   "cell_type": "code",
   "execution_count": null,
   "metadata": {
    "collapsed": false,
    "pycharm": {
     "name": "#%%\n"
    }
   },
   "outputs": [],
   "source": [
    "# Problem:  compute the first 10 natural squares\n",
    "[(i+1)**2 for i in range(10)]"
   ]
  },
  {
   "cell_type": "markdown",
   "metadata": {
    "collapsed": false,
    "pycharm": {
     "name": "#%% md\n"
    }
   },
   "source": [
    "### Filter\n",
    "Select a sub-set of the elements from another sequence based on some criteria."
   ]
  },
  {
   "cell_type": "code",
   "execution_count": null,
   "metadata": {
    "collapsed": false,
    "pycharm": {
     "name": "#%%\n"
    }
   },
   "outputs": [],
   "source": [
    "VOWELS = 'aeiou'\n",
    "textt = '''\n",
    "Lorem ipsum dolor sit amet, consectetur adipiscing elit, sed do eiusmod tempor incididunt ut labore et dolore magna aliqua. Ut enim ad minim veniam, quis nostrud exercitation ullamco laboris nisi ut aliquip ex ea commodo consequat.\n",
    "'''\n",
    "# Problem:  create a string with just the vowels from the text, in order.\n",
    "vowels = [i for i in VOWELS]\n",
    "''.join([i for i in textt if i in vowels])\n",
    "seen = set()\n",
    "def is_seen(c):\n",
    "    if c in seen:\n",
    "        return True\n",
    "    else:\n",
    "        seen.add(c)\n",
    "        return False\n",
    "\n",
    "unique = []\n",
    "for v in vowels:\n",
    "    if not is_seen(v):\n",
    "        unique.append(v)\n",
    "#[v for v in vowels if not is_seen(v)]\n",
    "unique"
   ]
  },
  {
   "cell_type": "markdown",
   "metadata": {
    "collapsed": false,
    "pycharm": {
     "name": "#%% md\n"
    }
   },
   "source": [
    "## Data Wrangling with List Comprehension\n",
    "E-learn's Live Quiz module does track quiz scores for each student, but does not store them in the gradebook,\n",
    "and it reports on them in the most useless way.\n",
    "\n",
    "Let's do some \"data wrangling\" to make sense out of this mess!\n",
    "\n",
    "### The Problem: Unstructured Data!\n",
    "Notice it is just a single large string!  The real data set has 36 students, and I need to do this every week!"
   ]
  },
  {
   "cell_type": "code",
   "execution_count": null,
   "metadata": {
    "collapsed": false,
    "pycharm": {
     "name": "#%%\n"
    }
   },
   "outputs": [],
   "source": [
    "text = \"\"\"\n",
    "  1.                 Ali Oop scored  7/ 8 = 87%\n",
    "\n",
    "\n",
    "  2.          Alison Ralison scored  8/ 8 = 100%\n",
    "\n",
    "\n",
    "  3.         Ambily Piturbed scored  8/ 8 = 100%\n",
    "\n",
    "\n",
    "  4.  Arshan Risnot Farquared scored  5/ 8 = 62%\n",
    "\n",
    "\n",
    "  5.       Ayushma Jugernaugh scored  5/ 8 = 62%\n",
    "\n",
    "\n",
    "  6.       Brayden Labaguette scored  7/ 8 = 87%\n",
    "\"\"\""
   ]
  },
  {
   "cell_type": "markdown",
   "metadata": {
    "collapsed": false,
    "pycharm": {
     "name": "#%% md\n"
    }
   },
   "source": [
    "### Goal\n",
    "Turn this into structured data: a list of 2-tuples, each student's full name and their integer score."
   ]
  },
  {
   "cell_type": "code",
   "execution_count": null,
   "metadata": {
    "collapsed": false,
    "pycharm": {
     "name": "#%%\n"
    }
   },
   "outputs": [],
   "source": [
    "lines = [line.split()[1:-3] for line in text.split('/n') if line]\n",
    "scores = [(' '.join(line[:-2]), line[-1][:-1]) for line in lines]\n",
    "scores\n",
    "\n",
    "# from collections import defaultdict\n",
    "# def counter_factory():\n",
    "#     return 0\n",
    "# def calc(val):\n",
    "#     return 2*val if val%2==0 else 3*val if \n",
    "# counts = defaultdict(lambda : 0)\n",
    "# for i in range(0,100):\n",
    "#     counts[i] += 1\n",
    "\n",
    "\n",
    "# counts"
   ]
  },
  {
   "cell_type": "markdown",
   "metadata": {
    "collapsed": false
   },
   "source": [
    "## Records\n",
    "A *record* is a compound data value - a collection of simpler data values (fields) that all describe a single entity.\n",
    "\n",
    " * tuple\n",
    " * dictionary\n",
    " * object\n",
    "\n",
    "Problem: develop the data representation for a `student` in a student record system,\n",
    "where a `student` has a first and last name, student id, and date of birth"
   ]
  },
  {
   "cell_type": "code",
   "execution_count": null,
   "metadata": {
    "colab": {
     "base_uri": "https://localhost:8080/",
     "height": 58
    },
    "id": "Ai9qb3Bolw4h",
    "outputId": "2e0926a0-3354-45d2-8769-54290d4decc1"
   },
   "outputs": [],
   "source": [
    "# Tuple\n",
    "tuple_students = [\n",
    "('Bob', 'Squarepants', 123456789, datetime.date(year=1994, month=2, day=25)),\n",
    "('Dora', 'Explorer', 123456545, datetime.date(year=2000, month=8, day=14))\n",
    "]\n",
    "s = tuple_students[-1]\n",
    "age = datetime.date.today() - s[3]\n",
    "age.days // 365\n",
    "# Dictionary\n",
    "dict_students = [\n",
    "    {\n",
    "        'first': 'Bob',\n",
    "        'last': 'Squarepants',\n",
    "        'sn': 123456789,\n",
    "        'DoB': datetime.date(year=1994, month=2, day=25)\n",
    "    },\n",
    "    {\n",
    "        'first': 'Dora',\n",
    "        'last': 'Explorer',\n",
    "        'sn': 123456545,\n",
    "        'DoB': datetime.date(year=2000, month=8, day=14)\n",
    "    }\n",
    "]\n",
    "\n",
    "s = dict_students[-1]\n",
    "s['DoB']\n",
    "\n",
    "students = [\n",
    "    {'first':s[0], 'last':s[1], 'sn':s[2], 'dob':s[3],} for s in tuple_students\n",
    "]"
   ]
  },
  {
   "cell_type": "code",
   "execution_count": 13,
   "metadata": {
    "collapsed": false,
    "pycharm": {
     "name": "#%%\n"
    }
   },
   "outputs": [
    {
     "data": {
      "text/plain": [
       "'Spanish'"
      ]
     },
     "execution_count": 13,
     "metadata": {},
     "output_type": "execute_result"
    }
   ],
   "source": [
    "# Object\n",
    "from dataclasses import dataclass\n",
    "\n",
    "@dataclass\n",
    "class Student:\n",
    "    first: str\n",
    "    last: str\n",
    "    sn :int\n",
    "    DoB: datetime.date\n",
    "\n",
    "    def full_name(self):\n",
    "        return f'{self.first} {self.last}'\n",
    "\n",
    "@dataclass\n",
    "class SkilledStudent(Student):\n",
    "    skill : str\n",
    "\n",
    "students = [\n",
    "    Student('Bob', 'Squarepants', 123456789, datetime.date(year=1994, month=2, day=25)),\n",
    "    SkilledStudent('Dora', 'Explorer', 123456545, datetime.date(year=2000, month=8, day=14), 'Spanish')\n",
    "]\n",
    "dora = [s for s in students if s.first=='Dora'][0]\n",
    "dora.skill"
   ]
  },
  {
   "cell_type": "code",
   "execution_count": null,
   "metadata": {},
   "outputs": [],
   "source": []
  }
 ],
 "metadata": {
  "colab": {
   "authorship_tag": "ABX9TyPaDDBvkkZsqA9kTy73BUWZ",
   "include_colab_link": true,
   "name": "week2.ipynb",
   "provenance": []
  },
  "kernelspec": {
   "display_name": "Python 3",
   "language": "python",
   "name": "python3"
  },
  "language_info": {
   "codemirror_mode": {
    "name": "ipython",
    "version": 3
   },
   "file_extension": ".py",
   "mimetype": "text/x-python",
   "name": "python",
   "nbconvert_exporter": "python",
   "pygments_lexer": "ipython3",
   "version": "3.11.0 (v3.11.0:deaf509e8f, Oct 24 2022, 14:43:23) [Clang 13.0.0 (clang-1300.0.29.30)]"
  },
  "vscode": {
   "interpreter": {
    "hash": "aee8b7b246df8f9039afb4144a1f6fd8d2ca17a180786b69acc140d282b71a49"
   }
  }
 },
 "nbformat": 4,
 "nbformat_minor": 0
}
