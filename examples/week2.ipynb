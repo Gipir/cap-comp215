{
 "cells": [
  {
   "cell_type": "markdown",
   "metadata": {
    "colab_type": "text",
    "id": "view-in-github"
   },
   "source": [
    "<a href=\"https://colab.research.google.com/github/powderflask/cap-comp215/blob/main/examples/week2.ipynb\" target=\"_parent\"><img src=\"https://colab.research.google.com/assets/colab-badge.svg\" alt=\"Open In Colab\"/></a>"
   ]
  },
  {
   "cell_type": "markdown",
   "metadata": {
    "id": "WBMC0GrjNRTM"
   },
   "source": [
    "# Sequence and Map data structures - Strings, Tuples, Lists, Dictionaries\n",
    "This is our week 2 examples notebook and will be available on Github from the powderflask/cap-comp215 repository.\n",
    "\n",
    "As usual, the first code block just imports the modules we will use."
   ]
  },
  {
   "cell_type": "code",
   "execution_count": 2,
   "metadata": {
    "id": "C1a6aDXAM0WM"
   },
   "outputs": [],
   "source": [
    "import datetime\n",
    "import matplotlib.pyplot as plt\n",
    "import  matplotlib.dates as mdates\n",
    "from pprint import pprint"
   ]
  },
  {
   "cell_type": "markdown",
   "metadata": {
    "collapsed": false,
    "pycharm": {
     "name": "#%% md\n"
    }
   },
   "source": [
    "## f-strings\n",
    "A `string` is a sequence of characters / symbols.\n",
    "This familiar data structure is quite powerful, and format-strings (f-strings) take it to the next level...."
   ]
  },
  {
   "cell_type": "code",
   "execution_count": 9,
   "metadata": {
    "collapsed": false,
    "pycharm": {
     "name": "#%%\n"
    }
   },
   "outputs": [
    {
     "data": {
      "text/plain": [
       "'11th of 01 month, 2023 is not special, but 42 and 3.14 are!'"
      ]
     },
     "execution_count": 9,
     "metadata": {},
     "output_type": "execute_result"
    }
   ],
   "source": [
    "today = datetime.date.today()\n",
    "the_answer = 42\n",
    "PI = 3.1415926535\n",
    "\n",
    "f'{today:%dth of %m month, %Y} is not special, but {the_answer} and {PI:0.3} are!'"
   ]
  },
  {
   "cell_type": "markdown",
   "metadata": {
    "id": "k70NJ-JTNwYN"
   },
   "source": [
    "## List Comprehension\n",
    "Provides a compact syntax for two very common sequence-processing algorithms:  Map  and Filter\n",
    "\n",
    "Basic syntax:"
   ]
  },
  {
   "cell_type": "code",
   "execution_count": 10,
   "metadata": {
    "colab": {
     "base_uri": "https://localhost:8080/"
    },
    "id": "HZSz8IftqJ72",
    "outputId": "5b74860f-94af-483c-f4a8-4ef27ba7dd4a"
   },
   "outputs": [
    {
     "data": {
      "text/plain": [
       "[0, 1, 2, 3, 4, 5, 6, 7, 8, 9]"
      ]
     },
     "execution_count": 10,
     "metadata": {},
     "output_type": "execute_result"
    }
   ],
   "source": [
    "[i for i in range(10)]"
   ]
  },
  {
   "cell_type": "markdown",
   "metadata": {
    "collapsed": false,
    "pycharm": {
     "name": "#%% md\n"
    }
   },
   "source": [
    "### Map Algorithm\n",
    "Apply the same function to every item in another sequence (i.e., provide a \"mapping\" from the source sequence to the target"
   ]
  },
  {
   "cell_type": "code",
   "execution_count": 12,
   "metadata": {
    "collapsed": false,
    "pycharm": {
     "name": "#%%\n"
    }
   },
   "outputs": [
    {
     "data": {
      "text/plain": [
       "[1, 4, 9, 16, 25, 36, 49, 64, 81, 100]"
      ]
     },
     "execution_count": 12,
     "metadata": {},
     "output_type": "execute_result"
    }
   ],
   "source": [
    "# Problem:  compute the first 10 natural squares\n",
    "[(i+1)**2 for i in range(10)]"
   ]
  },
  {
   "cell_type": "markdown",
   "metadata": {
    "collapsed": false,
    "pycharm": {
     "name": "#%% md\n"
    }
   },
   "source": [
    "### Filter\n",
    "Select a sub-set of the elements from another sequence based on some criteria."
   ]
  },
  {
   "cell_type": "code",
   "execution_count": 26,
   "metadata": {
    "collapsed": false,
    "pycharm": {
     "name": "#%%\n"
    }
   },
   "outputs": [
    {
     "data": {
      "text/plain": [
       "['a', 'e', 'i', 'o', 'u']"
      ]
     },
     "execution_count": 26,
     "metadata": {},
     "output_type": "execute_result"
    }
   ],
   "source": [
    "VOWELS = 'aeiou'\n",
    "text = '''\n",
    "Lorem ipsum dolor sit amet, consectetur adipiscing elit, sed do eiusmod tempor incididunt ut labore et dolore magna aliqua. Ut enim ad minim veniam, quis nostrud exercitation ullamco laboris nisi ut aliquip ex ea commodo consequat.\n",
    "'''\n",
    "# Problem:  create a string with just the vowels from the text, in order.\n",
    "vowels = [i for i in VOWELS]\n",
    "''.join([i for i in text if i in vowels])\n",
    "seen = set()\n",
    "def is_seen(c):\n",
    "    if c in seen:\n",
    "        return True\n",
    "    else:\n",
    "        seen.add(c)\n",
    "        return False\n",
    "\n",
    "unique = []\n",
    "for v in vowels:\n",
    "    if not is_seen(v):\n",
    "        unique.append(v)\n",
    "#[v for v in vowels if not is_seen(v)]\n",
    "unique"
   ]
  },
  {
   "cell_type": "markdown",
   "metadata": {
    "collapsed": false,
    "pycharm": {
     "name": "#%% md\n"
    }
   },
   "source": [
    "## Data Wrangling with List Comprehension\n",
    "E-learn's Live Quiz module does track quiz scores for each student, but does not store them in the gradebook,\n",
    "and it reports on them in the most useless way.\n",
    "\n",
    "Let's do some \"data wrangling\" to make sense out of this mess!\n",
    "\n",
    "### The Problem: Unstructured Data!\n",
    "Notice it is just a single large string!  The real data set has 36 students, and I need to do this every week!"
   ]
  },
  {
   "cell_type": "code",
   "execution_count": 32,
   "metadata": {
    "collapsed": false,
    "pycharm": {
     "name": "#%%\n"
    }
   },
   "outputs": [
    {
     "data": {
      "text/plain": [
       "'\\n  1.                 Ali Oop scored  7/ 8 = 87%\\n\\n\\n  2.          Alison Ralison scored  8/ 8 = 100%\\n\\n\\n  3.         Ambily Piturbed scored  8/ 8 = 100%\\n\\n\\n  4.  Arshan Risnot Farquared scored  5/ 8 = 62%\\n\\n\\n  5.       Ayushma Jugernaugh scored  5/ 8 = 62%\\n\\n\\n  6.       Brayden Labaguette scored  7/ 8 = 87%\\n'"
      ]
     },
     "execution_count": 32,
     "metadata": {},
     "output_type": "execute_result"
    }
   ],
   "source": [
    "\"\"\"\n",
    "  1.                 Ali Oop scored  7/ 8 = 87%\n",
    "\n",
    "\n",
    "  2.          Alison Ralison scored  8/ 8 = 100%\n",
    "\n",
    "\n",
    "  3.         Ambily Piturbed scored  8/ 8 = 100%\n",
    "\n",
    "\n",
    "  4.  Arshan Risnot Farquared scored  5/ 8 = 62%\n",
    "\n",
    "\n",
    "  5.       Ayushma Jugernaugh scored  5/ 8 = 62%\n",
    "\n",
    "\n",
    "  6.       Brayden Labaguette scored  7/ 8 = 87%\n",
    "\"\"\""
   ]
  },
  {
   "cell_type": "markdown",
   "metadata": {
    "collapsed": false,
    "pycharm": {
     "name": "#%% md\n"
    }
   },
   "source": [
    "### Goal\n",
    "Turn this into structured data: a list of 2-tuples, each student's full name and their integer score."
   ]
  },
  {
   "cell_type": "code",
   "execution_count": 32,
   "metadata": {
    "collapsed": false,
    "pycharm": {
     "name": "#%%\n"
    }
   },
   "outputs": [],
   "source": []
  },
  {
   "cell_type": "markdown",
   "metadata": {
    "collapsed": false
   },
   "source": [
    "## Records\n",
    "A *record* is a compound data value - a collection of simpler data values (fields) that all describe a single entity.\n",
    "\n",
    " * tuple\n",
    " * dictionary\n",
    " * object\n",
    "\n",
    "Problem: develop the data representation for a `student` in a student record system,\n",
    "where a `student` has a first and last name, student id, and date of birth"
   ]
  },
  {
   "cell_type": "code",
   "execution_count": 33,
   "metadata": {
    "colab": {
     "base_uri": "https://localhost:8080/",
     "height": 58
    },
    "id": "Ai9qb3Bolw4h",
    "outputId": "2e0926a0-3354-45d2-8769-54290d4decc1"
   },
   "outputs": [],
   "source": [
    "# Tuple\n",
    "\n",
    "# Dictionary\n",
    "\n",
    "# Object"
   ]
  },
  {
   "cell_type": "code",
   "execution_count": 33,
   "metadata": {
    "collapsed": false,
    "pycharm": {
     "name": "#%%\n"
    }
   },
   "outputs": [],
   "source": []
  }
 ],
 "metadata": {
  "colab": {
   "authorship_tag": "ABX9TyPaDDBvkkZsqA9kTy73BUWZ",
   "include_colab_link": true,
   "name": "week2.ipynb",
   "provenance": []
  },
  "kernelspec": {
   "display_name": "Python 3",
   "language": "python",
   "name": "python3"
  },
  "language_info": {
   "codemirror_mode": {
    "name": "ipython",
    "version": 3
   },
   "file_extension": ".py",
   "mimetype": "text/x-python",
   "name": "python",
   "nbconvert_exporter": "python",
   "pygments_lexer": "ipython3",
   "version": "3.11.0"
  },
  "vscode": {
   "interpreter": {
    "hash": "aee8b7b246df8f9039afb4144a1f6fd8d2ca17a180786b69acc140d282b71a49"
   }
  }
 },
 "nbformat": 4,
 "nbformat_minor": 0
}
