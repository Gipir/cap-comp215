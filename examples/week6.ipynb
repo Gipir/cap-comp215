{
 "cells": [
  {
   "cell_type": "markdown",
   "metadata": {
    "collapsed": false
   },
   "source": [
    "# Game of Life\n",
    "This is our week 6 examples notebook and will be available on Github from the powderflask/cap-comp215 repository.\n",
    "As usual, the first code block just imports the modules we will use."
   ]
  },
  {
   "cell_type": "code",
   "execution_count": 40,
   "metadata": {
    "collapsed": true
   },
   "outputs": [],
   "source": [
    "import math, re\n",
    "import matplotlib.pyplot as plt\n",
    "import numpy as np\n",
    "from scipy.signal import correlate2d"
   ]
  },
  {
   "attachments": {},
   "cell_type": "markdown",
   "metadata": {},
   "source": [
    "Just ignore everything up to Python unpacking, we didnt cover that on Wensday "
   ]
  },
  {
   "cell_type": "markdown",
   "metadata": {
    "collapsed": false
   },
   "source": [
    "## 2D Correlation with a 2D Kernel and 19 state lookup table (0 - 18)"
   ]
  },
  {
   "cell_type": "code",
   "execution_count": null,
   "metadata": {
    "collapsed": false,
    "pycharm": {
     "name": "#%%\n"
    }
   },
   "outputs": [],
   "source": [
    "np.random.seed(42)\n",
    "state = np.random.randint(2, size=(10, 10), dtype=np.uint8)\n",
    "\n",
    "kernel = np.array([[1, 1, 1],\n",
    "                   [1,10, 1],\n",
    "                   [1, 1, 1]])\n",
    "\n",
    "table = np.zeros(19, dtype=np.uint8)\n",
    "table[[3, 12, 13]] = 1\n",
    "\n",
    "dot_p = correlate2d(state, kernel, mode='same')\n",
    "new_state = table[dot_p]\n",
    "print(state)\n",
    "print(dot_p)\n",
    "print(new_state)"
   ]
  },
  {
   "cell_type": "markdown",
   "metadata": {
    "collapsed": false
   },
   "source": [
    "# Display CA as 2-D image"
   ]
  },
  {
   "cell_type": "code",
   "execution_count": null,
   "metadata": {
    "collapsed": false,
    "pycharm": {
     "name": "#%%\n"
    }
   },
   "outputs": [],
   "source": [
    "plt.imshow(new_state)"
   ]
  },
  {
   "cell_type": "markdown",
   "metadata": {
    "collapsed": false
   },
   "source": [
    "## Python: argument unpacking"
   ]
  },
  {
   "attachments": {},
   "cell_type": "markdown",
   "metadata": {},
   "source": [
    "*args are all arguments that are inputted like my_func(42, 'hello'), there can be as many *args as possible. They all combined into one tuple inside the function"
   ]
  },
  {
   "attachments": {},
   "cell_type": "markdown",
   "metadata": {},
   "source": [
    "**kwargs are like *args but they are inputted like my_func(foo='choo', bar=[1,2,3]). There cant be kwargs without args, but there are can be args with kwargs. They combine into dictionary inside the function"
   ]
  },
  {
   "cell_type": "code",
   "execution_count": 43,
   "metadata": {
    "collapsed": false,
    "pycharm": {
     "name": "#%%\n"
    }
   },
   "outputs": [
    {
     "name": "stdout",
     "output_type": "stream",
     "text": [
      "positional args: (42, 'hello')\n",
      "keyword args: {'foo': 'choo', 'bar': [1, 2, 3]}\n"
     ]
    }
   ],
   "source": [
    "def my_func(*args, **kwargs):\n",
    "    assert type(args) == tuple\n",
    "    assert type(kwargs) == dict\n",
    "    print('positional args:', args)\n",
    "    print('keyword args:', kwargs)\n",
    "\n",
    "my_func(42, 'hello', foo='choo', bar=[1,2,3])"
   ]
  },
  {
   "attachments": {},
   "cell_type": "markdown",
   "metadata": {},
   "source": [
    "This part is hard to understand through reading git alone, because it was confusing even when someone explains it right to your face "
   ]
  },
  {
   "cell_type": "markdown",
   "metadata": {
    "collapsed": false
   },
   "source": [
    "## Python: dictionaries and argument unpacking"
   ]
  },
  {
   "attachments": {},
   "cell_type": "markdown",
   "metadata": {},
   "source": [
    "dict() is just function that creates dictionaries"
   ]
  },
  {
   "cell_type": "code",
   "execution_count": 44,
   "metadata": {
    "collapsed": false,
    "pycharm": {
     "name": "#%%\n"
    }
   },
   "outputs": [
    {
     "name": "stdout",
     "output_type": "stream",
     "text": [
      "{'a': 1, 'b': 2, 'c': 3} {'a': 1, 'b': 2, 'c': 3}\n",
      "positional args: ()\n",
      "keyword args: {'a': 1, 'b': 2, 'c': 3}\n"
     ]
    }
   ],
   "source": [
    "d1 = {\n",
    "    'a' : 1,\n",
    "    'b' : 2,\n",
    "    'c' : 3,\n",
    "}\n",
    "\n",
    "d2 = dict(a=1, b=2, c=3)\n",
    "\n",
    "assert d1 == d2\n",
    "\n",
    "print(d1, d2)\n",
    "\n",
    "my_func(**d1)"
   ]
  },
  {
   "attachments": {},
   "cell_type": "markdown",
   "metadata": {},
   "source": [
    "We stopped here"
   ]
  },
  {
   "cell_type": "markdown",
   "metadata": {
    "collapsed": false
   },
   "source": [
    "## Python: Class Inheritance\n",
    "* use with caution - there is **much** to learn about using inheritance correctly!\n",
    "* see Ch. 19 in Comp115 Think Python textbook for more info"
   ]
  },
  {
   "cell_type": "code",
   "execution_count": 48,
   "metadata": {
    "collapsed": false,
    "pycharm": {
     "name": "#%%\n"
    }
   },
   "outputs": [
    {
     "name": "stdout",
     "output_type": "stream",
     "text": [
      "3 different kinds of points: <class '__main__.Point2D'> (3, 4) <class '__main__.PolarPoint2D'> (2.99, 4.01) <class '__main__.LabelledPoint2D'> (6, 8)-Here\n",
      "Polar coordinates: p1: (5.0, 0.9272952180016122)  p2: (5.0, 0.9299999999999999)\n",
      "Distance from (3, 4) to (2.99, 4.01) : 0.013523905869487528  and visa versa: 0.013523905869487528\n",
      "Distance from (3, 4) to (6, 8)-Here : 5.0  and visa versa: 5.0\n"
     ]
    }
   ],
   "source": [
    "class Point2D:\n",
    "    \"\"\" A point on the 2D Cartesian plane \"\"\"\n",
    "    def __init__(self, x, y):\n",
    "        self.x = x\n",
    "        self.y = y\n",
    "\n",
    "    def __str__(self):\n",
    "        return '({x}, {y})'.format(x=round(self.x,2), y=round(self.y,2))\n",
    "\n",
    "    def distance(self, other):\n",
    "        \"\"\" Return distance between this point and other Point2D \"\"\"\n",
    "        return math.sqrt((self.x-other.x)**2 + (self.y-other.y)**2)\n",
    "\n",
    "    @property\n",
    "    def r(self):\n",
    "        \"\"\" length, r, from origin to this point \"\"\"\n",
    "        return self.distance(Point2D(0,0))\n",
    "\n",
    "    @property\n",
    "    def theta(self):\n",
    "        \"\"\" angle, in radians, of vector to this point \"\"\"\n",
    "        return math.atan2(self.y, self.x)  # faster than SohCahToa\n",
    "\n",
    "    def polar_coord(self):\n",
    "        \"\"\" return the polar coordinate for this point \"\"\"\n",
    "        return (self.r, self.theta)\n",
    "\n",
    "\n",
    "class PolarPoint2D(Point2D):\n",
    "    \"\"\" A point on the 2D Cartesian plane specified in polar coordinates \"\"\"\n",
    "    def __init__(self, r, theta):\n",
    "        \"\"\" define point by length r and angle, theta, in radians \"\"\"\n",
    "        super().__init__(x=r*math.cos(theta), y=r*math.sin(theta))\n",
    "\n",
    "\n",
    "class LabelledPoint2D(Point2D):\n",
    "    \"\"\" A labelled point on a 2D Cartesian plane \"\"\"\n",
    "    def __init__(self, x, y, label):\n",
    "        super().__init__(x, y)\n",
    "        self.label = label\n",
    "\n",
    "    def __str__(self):\n",
    "        return '{point}-{label}'.format(point=super().__str__(), label=self.label)\n",
    "\n",
    "\n",
    "p1 = Point2D(3, 4)\n",
    "p2 = PolarPoint2D(5, 0.93)\n",
    "p3 = LabelledPoint2D(6, 8, 'Here')\n",
    "\n",
    "print('3 different kinds of points:', type(p1), p1, type(p2), p2, type(p3), p3)\n",
    "print('Polar coordinates: p1:', p1.polar_coord(), ' p2:', p2.polar_coord())\n",
    "print('Distance from', p1,'to', p2, ':', p1.distance(p2), ' and visa versa:', p2.distance(p1))\n",
    "print('Distance from', p1, 'to', p3, ':', p1.distance(p3), ' and visa versa:', p3.distance(p1))"
   ]
  },
  {
   "cell_type": "markdown",
   "metadata": {
    "collapsed": false
   },
   "source": [
    "## For Project Idea: Life Patterns\n",
    "This code demonstrates how to use a \"regular expression\" (re) to parse run-length encoded data\n",
    " - a regular expression to parse the GoL RLE pattern"
   ]
  },
  {
   "cell_type": "code",
   "execution_count": 46,
   "metadata": {
    "collapsed": false,
    "pycharm": {
     "name": "#%%\n"
    }
   },
   "outputs": [
    {
     "name": "stdout",
     "output_type": "stream",
     "text": [
      "[('24', 'b'), ('', 'o'), ('11', 'b'), ('', '$'), ('22', 'b'), ('', 'o'), ('', 'b'), ('', 'o'), ('11', 'b'), ('', '$'), ('12', 'b'), ('2', 'o'), ('6', 'b'), ('2', 'o'), ('12', 'b'), ('2', 'o'), ('', '$'), ('11', 'b'), ('', 'o'), ('3', 'b'), ('', 'o'), ('4', 'b'), ('2', 'o'), ('12', 'b'), ('2', 'o'), ('', '$'), ('2', 'o'), ('8', 'b'), ('', 'o'), ('5', 'b'), ('', 'o'), ('3', 'b'), ('2', 'o'), ('14', 'b'), ('', '$'), ('2', 'o'), ('8', 'b'), ('', 'o'), ('3', 'b'), ('', 'o'), ('', 'b'), ('2', 'o'), ('4', 'b'), ('', 'o'), ('', 'b'), ('', 'o'), ('11', 'b'), ('', '$'), ('10', 'b'), ('', 'o'), ('5', 'b'), ('', 'o'), ('7', 'b'), ('', 'o'), ('11', 'b'), ('', '$'), ('11', 'b'), ('', 'o'), ('3', 'b'), ('', 'o'), ('20', 'b'), ('', '$'), ('12', 'b'), ('2', 'o'), ('', '!')]\n"
     ]
    }
   ],
   "source": [
    "rle_pairs = r'(\\d+)?([bo$!])'  # 2-tuples, (n, c), where n is optional positive integer and C is one of b,o,$,!\n",
    "# pattern from https://conwaylife.com/patterns/gosperglidergun.rle\n",
    "data = '''\n",
    "24bo11b$22bobo11b$12b2o6b2o12b2o$11bo3bo4b2o12b2o$2o8bo5bo3b2o14b$2o8bo3bob2o4bobo11b$10bo5bo7bo11b$11bo3bo20b$12b2o!\n",
    "'''\n",
    "matches = re.findall(rle_pairs, data)\n",
    "print(matches)"
   ]
  }
 ],
 "metadata": {
  "kernelspec": {
   "display_name": "Python 3",
   "language": "python",
   "name": "python3"
  },
  "language_info": {
   "codemirror_mode": {
    "name": "ipython",
    "version": 2
   },
   "file_extension": ".py",
   "mimetype": "text/x-python",
   "name": "python",
   "nbconvert_exporter": "python",
   "pygments_lexer": "ipython2",
   "version": "3.11.0 (v3.11.0:deaf509e8f, Oct 24 2022, 14:43:23) [Clang 13.0.0 (clang-1300.0.29.30)]"
  },
  "vscode": {
   "interpreter": {
    "hash": "aee8b7b246df8f9039afb4144a1f6fd8d2ca17a180786b69acc140d282b71a49"
   }
  }
 },
 "nbformat": 4,
 "nbformat_minor": 0
}
