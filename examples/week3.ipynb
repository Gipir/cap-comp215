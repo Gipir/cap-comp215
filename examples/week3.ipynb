{
 "cells": [
  {
   "cell_type": "markdown",
   "metadata": {
    "colab_type": "text",
    "id": "view-in-github"
   },
   "source": [
    "<a href=\"https://colab.research.google.com/github/powderflask/cap-comp215/blob/main/examples/week3.ipynb\" target=\"_parent\"><img src=\"https://colab.research.google.com/assets/colab-badge.svg\" alt=\"Open In Colab\"/></a>"
   ]
  },
  {
   "cell_type": "markdown",
   "metadata": {
    "id": "WBMC0GrjNRTM"
   },
   "source": [
    "# Classes and Objects\n",
    "This is our week 3 examples notebook and will be available on Github from the powderflask/cap-comp215 repository.\n",
    "\n",
    "As usual, the first code block just imports the modules we will use."
   ]
  },
  {
   "cell_type": "code",
   "execution_count": 1,
   "metadata": {
    "colab": {
     "base_uri": "https://localhost:8080/"
    },
    "id": "Xuhr0Iqrkl7M",
    "outputId": "fffe8d12-7982-43c8-aeb6-00f6fd6b78a8",
    "pycharm": {
     "name": "#%%\n"
    }
   },
   "outputs": [],
   "source": [
    "import random\n",
    "import matplotlib.pyplot as plt\n",
    "from pprint import pprint\n",
    "from dataclasses import dataclass\n",
    "import math\n",
    "\n",
    "# Everything in Python is an object and everything has a \"type\" which is its class\n",
    "\n",
    "\n",
    "# Even a function is an object...\n",
    "\n",
    "\n",
    "# ... so we can even define additional \"attributes\" for that object:\n"
   ]
  },
  {
   "cell_type": "markdown",
   "metadata": {
    "collapsed": false,
    "id": "9kidyXF4kl7N"
   },
   "source": [
    "## Problem: Collision detection using circles"
   ]
  },
  {
   "cell_type": "code",
   "execution_count": 19,
   "metadata": {
    "id": "JzVlJnx0kl7O",
    "pycharm": {
     "name": "#%%\n"
    }
   },
   "outputs": [
    {
     "data": {
      "text/plain": [
       "True"
      ]
     },
     "execution_count": 19,
     "metadata": {},
     "output_type": "execute_result"
    }
   ],
   "source": [
    "\n",
    "class Circle:\n",
    "    \"\"\" Representation for the data and operations on a circle \"\"\"\n",
    "\n",
    "    def __init__(self, radius, centre):\n",
    "        self.radius = radius\n",
    "        self.centre = centre\n",
    "\n",
    "    def __str__(self):\n",
    "        return f'Circle {self.radius}, {self.centre}'\n",
    "\n",
    "    def __repr__(self):\n",
    "        return str(self)\n",
    "\n",
    "    def area(self):\n",
    "        \"\"\" Return the area of this circle \"\"\"\n",
    "        return (self.radius**2)*3.14159265359\n",
    "\n",
    "    def move(self, offset):\n",
    "        \"\"\" Move this circle by given (x,y) offset \"\"\"\n",
    "\n",
    "    def distance(self, other):\n",
    "        \"\"\" Return the distance between this circle and the other one \"\"\"\n",
    "\n",
    "    def intersects(self, other):\n",
    "        \"\"\" Return True iff this circle intersects the other one \"\"\"\n",
    "\n",
    "c = Circle(10,(0,0))\n",
    "\n",
    "@dataclass \n",
    "class CircleTwo:\n",
    "    radius : float\n",
    "    center : Point2D\n",
    "\n",
    "    @property\n",
    "    def x(self):\n",
    "        return self.center.x\n",
    "\n",
    "    @property\n",
    "    def y(self):\n",
    "        return self.center.y\n",
    "\n",
    "    '''\n",
    "    def __add__(self, other):\n",
    "        \"\"\"Adds two circles together\"\"\"\n",
    "        return \n",
    "    '''\n",
    "    @property\n",
    "    def area(self):\n",
    "        \"\"\" Return the area of this circle \"\"\"\n",
    "        '''Accessor method, immmutable'''\n",
    "        return (self.radius**2)*math.pi\n",
    "\n",
    "    def move(self, offset):\n",
    "        \"\"\" Move this circle by given (x,y) offset \"\"\"\n",
    "        '''Mutatable method'''\n",
    "        self.center = self.center + offset\n",
    "\n",
    "    def distance(self, other):\n",
    "        \"\"\" Return the distance between this circle centers and the other one \"\"\"\n",
    "\n",
    "        return math.sqrt(\n",
    "            (self.x - other.x)**2 + \n",
    "            (self.y - other.y)**2\n",
    "            )\n",
    "\n",
    "    def intersects(self, other):\n",
    "        \"\"\" Return True iff this circle intersects the other one \"\"\"\n",
    "        return self.distance(other) <= (self.radius + other.radius)\n",
    "\n",
    "c = CircleTwo(10,Point2D(0,0))\n",
    "a = CircleTwo(10,Point2D(3,4))\n",
    "c.distance(a)\n",
    "c.intersects(a)"
   ]
  },
  {
   "cell_type": "code",
   "execution_count": 17,
   "metadata": {},
   "outputs": [
    {
     "data": {
      "text/plain": [
       "Point2D(x=11, y=22)"
      ]
     },
     "execution_count": 17,
     "metadata": {},
     "output_type": "execute_result"
    }
   ],
   "source": [
    "@dataclass\n",
    "class Point2D:\n",
    "    x: float\n",
    "    y: float\n",
    "\n",
    "    def __eq__(self,other):\n",
    "        return (self.x == other.x) and (self.y == self.y)\n",
    "\n",
    "    def __add__(self,other):\n",
    "        return Point2D(self.x + other.x, self.y + other.y)\n",
    "        \n",
    "    def distance(self, other):\n",
    "        return math.sqrt(\n",
    "            (self.x - other.x)**2 + \n",
    "            (self.y - other.y)**2\n",
    "            )\n",
    "\n",
    "p1 = Point2D(4,9)\n",
    "p2 = Point2D(7,13)\n",
    "p1.distance(p2)\n",
    "p1.__add__(p2)"
   ]
  },
  {
   "cell_type": "code",
   "execution_count": 3,
   "metadata": {
    "colab": {
     "base_uri": "https://localhost:8080/"
    },
    "id": "yAie8rLAkl7P",
    "outputId": "62b017b1-bcb7-4858-9f37-1bb900eeb960",
    "pycharm": {
     "name": "#%%\n"
    }
   },
   "outputs": [],
   "source": [
    "# Test Circle class\n"
   ]
  },
  {
   "cell_type": "markdown",
   "metadata": {
    "collapsed": false,
    "id": "KgcBUGH4kl7Q"
   },
   "source": [
    "## Problem:  Counting\n",
    "When conducting an experiment, it is common to count occurances.  For example\n",
    "\n",
    "* in a physics experiment, we might count the number of atomic collisions in which certain sub-atomic particles were produced\n",
    "* in biology, we might count the number of cells infected by a virus after a fixed time period\n",
    "* in a computational experiment, we might count the frequency with which clusters of a give size form\n",
    "\n",
    "To visualize such experimental results, we would generally plot a histogram, like this:\n"
   ]
  },
  {
   "cell_type": "code",
   "execution_count": 4,
   "metadata": {
    "colab": {
     "base_uri": "https://localhost:8080/",
     "height": 333
    },
    "id": "HZSz8IftqJ72",
    "outputId": "e67e1423-34f0-4c80-fae7-602302ae30bc"
   },
   "outputs": [
    {
     "data": {
      "text/plain": [
       "[]"
      ]
     },
     "execution_count": 4,
     "metadata": {},
     "output_type": "execute_result"
    },
    {
     "data": {
      "image/png": "[encoded data removed]",
      "text/plain": [
       "<Figure size 640x480 with 1 Axes>"
      ]
     },
     "metadata": {},
     "output_type": "display_data"
    }
   ],
   "source": [
    "# Experiment: Get the age distribution for Cap students\n",
    "n_cap_students = 11500\n",
    "\n",
    "# Simulate getting the age for one Cap student\n",
    "def get_age(student_id):\n",
    "    return int(random.normalvariate(mu=24, sigma=4))  # Normally distributed age with mean of 24 years\n",
    "\n",
    "# Run experiment to obtain the age for each student\n",
    "data = [get_age(id) for id in range(n_cap_students)]\n",
    "\n",
    "# Set the number of bins to the number of ages we found\n",
    "n_bins = len(set(data))\n",
    "\n",
    "fig, ax = plt.subplots()\n",
    "ax.set_title(\"Age distribution for Cap Students\")\n",
    "ax.set_xlabel('Age (years)')\n",
    "\n",
    "# plot a histogram of the data, divided into n \"equal width\" bins\n",
    "ax.hist(data, bins=n_bins)\n",
    "plt.plot()"
   ]
  },
  {
   "cell_type": "markdown",
   "metadata": {
    "id": "naDVayQLkznK"
   },
   "source": [
    "## Custom Histogram Class\n",
    "\n",
    "Define our own historgram class that serves as a \"wrapper\" for clunky pyplot ax.hist"
   ]
  },
  {
   "cell_type": "code",
   "execution_count": 5,
   "metadata": {
    "id": "Ai9qb3Bolw4h"
   },
   "outputs": [],
   "source": [
    "class Histogram:\n",
    "    \"\"\" A simple histogram with a nice API \"\"\"\n",
    "    def __init__(self, title, xlabel=None):\n",
    "        fig, ax = plt.subplots()\n",
    "        ax.set_title(title)\n",
    "        if xlabel:\n",
    "            ax.set_xlabel(xlabel)\n",
    "        ax.set_ylabel('Count')\n",
    "        self.ax = ax\n",
    "        self.fig = fig\n",
    "        self.counts = {}\n",
    "\n",
    "    def count(self, category):\n",
    "        self.counts[category] = self.counts.get(category, 0) + 1\n",
    "\n",
    "    def plot(self):\n",
    "        self.ax.bar(self.counts.keys(), self.counts.values())\n",
    "        plt.show()"
   ]
  },
  {
   "cell_type": "code",
   "execution_count": 6,
   "metadata": {
    "colab": {
     "base_uri": "https://localhost:8080/",
     "height": 316
    },
    "id": "QxLQc9nokl7T",
    "outputId": "e3471832-5326-4c0c-abb5-f02884110fef",
    "pycharm": {
     "name": "#%%\n"
    }
   },
   "outputs": [
    {
     "data": {
      "image/png": "[encoded data removed]",
      "text/plain": [
       "<Figure size 640x480 with 1 Axes>"
      ]
     },
     "metadata": {},
     "output_type": "display_data"
    }
   ],
   "source": [
    "hist = Histogram(title='Age Distribution for Cap Students', xlabel='Age (years)')\n",
    "for id in range(n_cap_students):\n",
    "    hist.count(get_age(id))\n",
    "hist.plot()"
   ]
  },
  {
   "cell_type": "code",
   "execution_count": null,
   "metadata": {
    "id": "-y3O-TIYkl7T",
    "pycharm": {
     "name": "#%%\n"
    }
   },
   "outputs": [],
   "source": []
  }
 ],
 "metadata": {
  "colab": {
   "include_colab_link": true,
   "name": "week3.ipynb",
   "provenance": []
  },
  "kernelspec": {
   "display_name": "Python 3",
   "language": "python",
   "name": "python3"
  },
  "language_info": {
   "codemirror_mode": {
    "name": "ipython",
    "version": 3
   },
   "file_extension": ".py",
   "mimetype": "text/x-python",
   "name": "python",
   "nbconvert_exporter": "python",
   "pygments_lexer": "ipython3",
   "version": "3.11.0"
  },
  "vscode": {
   "interpreter": {
    "hash": "aee8b7b246df8f9039afb4144a1f6fd8d2ca17a180786b69acc140d282b71a49"
   }
  }
 },
 "nbformat": 4,
 "nbformat_minor": 0
}
